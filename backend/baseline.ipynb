{
 "cells": [
  {
   "cell_type": "code",
   "execution_count": null,
   "id": "845f3b9f",
   "metadata": {},
   "outputs": [],
   "source": [
    "# 셀 2: 환경 변수 및 라이브러리 불러오기 (이전 코드와 동일)\n",
    "import os\n",
    "from dotenv import load_dotenv\n",
    "\n",
    "load_dotenv(\".env\")  # .env에서 OPENAI_API_KEY 로드\n",
    "OPENAI_API_KEY = os.getenv(\"OPENAI_API_KEY\")\n",
    "\n",
    "from langchain.llms import OpenAI\n",
    "from langchain.chains import ConversationChain\n",
    "from langchain_community.chat_message_histories.redis import RedisChatMessageHistory\n",
    "\n",
    "# LangChain의 메모리 모듈에서 ConversationBufferMemory 임포트\n",
    "from langchain.memory import ConversationBufferMemory  # <--- 이 부분을 추가합니다.\n",
    "\n",
    "# Redis URL 설정 (기본값은 localhost:6379, 필요시 .env 파일에 REDIS_URL 정의)\n",
    "redis_url = os.getenv(\"REDIS_URL\", \"redis://localhost:6379/0\")\n",
    "\n",
    "# LLM 모델 초기화\n",
    "llm = OpenAI(\n",
    "    openai_api_key=OPENAI_API_KEY, temperature=0.7\n",
    ")  # temperature는 창의성 조절"
   ]
  },
  {
   "cell_type": "code",
   "execution_count": null,
   "id": "0b72ed52",
   "metadata": {},
   "outputs": [
    {
     "name": "stdout",
     "output_type": "stream",
     "text": [
      "--- Redis를 활용한 멀티챗 시뮬레이션 ---\n",
      "세션 변경: 'change <session_id>' (예: 'change user_a' 또는 'change session_1')\n",
      "종료: 'exit' 또는 'quit'\n",
      "\n",
      "현재 활성 세션: default_session\n",
      "오류 발생: Error 10061 connecting to localhost:6379. 대상 컴퓨터에서 연결을 거부했으므로 연결하지 못했습니다.\n",
      "API 키를 확인하거나, Redis 서버가 실행 중인지 확인해주세요.\n",
      "\n",
      "--- 모든 세션의 최종 대화 기록 (Redis에서 직접 확인) ---\n",
      "세션 'default_session' 기록을 가져오는 중 오류: Error 10061 connecting to localhost:6379. 대상 컴퓨터에서 연결을 거부했으므로 연결하지 못했습니다.\n",
      "세션 'user_a' 기록을 가져오는 중 오류: Error 10061 connecting to localhost:6379. 대상 컴퓨터에서 연결을 거부했으므로 연결하지 못했습니다.\n",
      "세션 'session_1' 기록을 가져오는 중 오류: Error 10061 connecting to localhost:6379. 대상 컴퓨터에서 연결을 거부했으므로 연결하지 못했습니다.\n",
      "세션 'user_b_test' 기록을 가져오는 중 오류: Error 10061 connecting to localhost:6379. 대상 컴퓨터에서 연결을 거부했으므로 연결하지 못했습니다.\n"
     ]
    }
   ],
   "source": [
    "# --- 멀티챗 구현 함수 ---\n",
    "\n",
    "\n",
    "def get_conversation_chain(session_id: str):\n",
    "    \"\"\"\n",
    "    주어진 session_id에 따라 Redis에 연결된 ConversationChain을 반환합니다.\n",
    "    \"\"\"\n",
    "    # 1. RedisChatMessageHistory 인스턴스 생성\n",
    "    redis_chat_history = RedisChatMessageHistory(\n",
    "        session_id=session_id,\n",
    "        url=redis_url,\n",
    "    )\n",
    "\n",
    "    # 2. ConversationBufferMemory에 RedisChatMessageHistory를 chat_memory로 전달\n",
    "    #    return_messages=True로 설정하면 메시지 객체 리스트를 반환합니다.\n",
    "    memory = ConversationBufferMemory(\n",
    "        chat_memory=redis_chat_history,\n",
    "        return_messages=True,  # LLM에 메시지 객체 형태로 전달 (더 유연함)\n",
    "    )\n",
    "\n",
    "    # 3. ConversationChain에 수정된 memory 객체 전달\n",
    "    conversation = ConversationChain(\n",
    "        llm=llm,\n",
    "        memory=memory,  # <--- 수정된 부분입니다.\n",
    "        verbose=False,  # 대화 과정을 너무 자세히 보여주지 않기 위해 False로 설정\n",
    "        # 필요하다면 True로 변경하여 디버깅에 활용\n",
    "    )\n",
    "    return conversation\n",
    "\n",
    "\n",
    "# --- 메인 대화 루프 (이하 동일) ---\n",
    "\n",
    "print(\"--- Redis를 활용한 멀티챗 시뮬레이션 ---\")\n",
    "print(\"세션 변경: 'change <session_id>' (예: 'change user_a' 또는 'change session_1')\")\n",
    "print(\"종료: 'exit' 또는 'quit'\")\n",
    "\n",
    "current_session_id = \"default_session\"  # 초기 세션 ID\n",
    "current_conversation = get_conversation_chain(current_session_id)\n",
    "print(f\"\\n현재 활성 세션: {current_session_id}\")\n",
    "\n",
    "while True:\n",
    "    try:\n",
    "        user_input = input(f\"[{current_session_id}] 당신의 질문: \")\n",
    "\n",
    "        if user_input.lower() in [\"exit\", \"quit\"]:\n",
    "            print(\"대화를 종료합니다.\")\n",
    "            break\n",
    "        elif user_input.lower().startswith(\"change \"):\n",
    "            # 'change <session_id>' 명령 처리\n",
    "            parts = user_input.split(\" \")\n",
    "            if len(parts) == 2:\n",
    "                new_session_id = parts[1]\n",
    "                if new_session_id == current_session_id:\n",
    "                    print(f\"이미 '{new_session_id}' 세션에 있습니다.\")\n",
    "                else:\n",
    "                    current_session_id = new_session_id\n",
    "                    current_conversation = get_conversation_chain(current_session_id)\n",
    "                    print(f\"\\n세션이 '{current_session_id}'(으)로 변경되었습니다.\")\n",
    "            else:\n",
    "                print(\"잘못된 'change' 명령입니다. 사용법: change <session_id>\")\n",
    "            continue  # 다음 루프\n",
    "\n",
    "        # LLM에게 질문하고 응답 받기\n",
    "        ai_response = current_conversation.predict(input=user_input)\n",
    "        print(f\"AI 응답: {ai_response}\")\n",
    "\n",
    "    except Exception as e:\n",
    "        print(f\"오류 발생: {e}\")\n",
    "        print(\"API 키를 확인하거나, Redis 서버가 실행 중인지 확인해주세요.\")\n",
    "        break\n",
    "\n",
    "print(\"\\n--- 모든 세션의 최종 대화 기록 (Redis에서 직접 확인) ---\")\n",
    "# 실험에 사용된 모든 세션 ID를 여기에 추가하여 실제 Redis에 저장된 내용을 확인할 수 있습니다.\n",
    "# 위 예시에서 사용한 'default_session', 'user_a', 'session_1' 등을 넣어보세요.\n",
    "test_session_ids = [\"default_session\", \"user_a\", \"session_1\", \"user_b_test\"]\n",
    "for sid in test_session_ids:\n",
    "    try:\n",
    "        history_check = RedisChatMessageHistory(session_id=sid, url=redis_url)\n",
    "        if history_check.messages:  # 메시지가 있는 세션만 표시\n",
    "            print(f\"\\n--- 세션 '{sid}' 기록 ---\")\n",
    "            for msg in history_check.messages:\n",
    "                print(f\"  {msg.type.upper()}: {msg.content}\")\n",
    "    except Exception as e:\n",
    "        print(f\"세션 '{sid}' 기록을 가져오는 중 오류: {e}\")"
   ]
  },
  {
   "cell_type": "markdown",
   "id": "d9873c4d",
   "metadata": {},
   "source": [
    "### GPT"
   ]
  },
  {
   "cell_type": "code",
   "execution_count": null,
   "id": "97ea1640",
   "metadata": {},
   "outputs": [],
   "source": [
    "# 셀 1: 패키지 설치 (한 번만 실행)\n",
    "# !pip install langchain-community redis python-dotenv ipykernel\n",
    "\n",
    "# 셀 2: 환경 변수 로드 & 임포트\n",
    "import os\n",
    "from dotenv import load_dotenv\n",
    "from langchain.chat_models import ChatOpenAI\n",
    "from langchain.schema import HumanMessage\n",
    "from langchain_community.chat_message_histories.redis import RedisChatMessageHistory\n",
    "\n",
    "load_dotenv(\".env\")\n",
    "OPENAI_API_KEY = os.getenv(\"OPENAI_API_KEY\")\n",
    "\n",
    "# 셀 3: LLM 및 Redis 메모리 초기화\n",
    "llm = ChatOpenAI(openai_api_key=OPENAI_API_KEY, temperature=0.7)\n",
    "memory = RedisChatMessageHistory(\n",
    "    session_id=\"default_session\", url=\"redis://localhost:6379/0\"\n",
    ")\n",
    "\n",
    "\n",
    "# 셀 4: 대화 함수 정의 (수정된 부분)\n",
    "def chat(input_text: str) -> str:\n",
    "    # 1) Redis에서 이전 메시지 리스트 불러오기\n",
    "    history = memory.messages  # ❌ get_messages()가 아니라 messages 속성 사용\n",
    "    # 2) HumanMessage 추가하여 LLM 호출\n",
    "    messages = history + [HumanMessage(content=input_text)]\n",
    "    response = llm(messages)\n",
    "    # 3) Redis에 대화 저장\n",
    "    memory.add_user_message(input_text)\n",
    "    memory.add_ai_message(response.content)\n",
    "    return response.content"
   ]
  },
  {
   "cell_type": "code",
   "execution_count": null,
   "id": "1e0281c5",
   "metadata": {},
   "outputs": [
    {
     "name": "stderr",
     "output_type": "stream",
     "text": [
      "C:\\Users\\computer\\AppData\\Local\\Temp\\ipykernel_10992\\68044283.py:27: LangChainDeprecationWarning: The method `BaseChatModel.__call__` was deprecated in langchain-core 0.1.7 and will be removed in 1.0. Use invoke instead.\n",
      "  response = llm(messages)\n"
     ]
    },
    {
     "name": "stdout",
     "output_type": "stream",
     "text": [
      "안녕하세요, 웅이님. 만나서 반가워요! 어떻게 도와드릴까요? :)\n"
     ]
    }
   ],
   "source": [
    "# 셀 5: 멀티턴 대화 테스트\n",
    "print(chat(\"안녕.난 웅이라고 해.\"))"
   ]
  },
  {
   "cell_type": "code",
   "execution_count": 25,
   "id": "bdd871b6",
   "metadata": {},
   "outputs": [
    {
     "name": "stdout",
     "output_type": "stream",
     "text": [
      "죄송해요, 제가 이름을 잘못 말했네요. 사용자님의 이름은 웅이군요. 다시 한번 반가워요, 웅이님! 혼란을 드려 죄송합니다. 어떻게 도와드릴까요? :)\n"
     ]
    }
   ],
   "source": [
    "print(chat(\"내 이름이 뭐라고?\"))"
   ]
  }
 ],
 "metadata": {
  "kernelspec": {
   "display_name": "secretary_app",
   "language": "python",
   "name": "python3"
  },
  "language_info": {
   "codemirror_mode": {
    "name": "ipython",
    "version": 3
   },
   "file_extension": ".py",
   "mimetype": "text/x-python",
   "name": "python",
   "nbconvert_exporter": "python",
   "pygments_lexer": "ipython3",
   "version": "3.11.11"
  }
 },
 "nbformat": 4,
 "nbformat_minor": 5
}
