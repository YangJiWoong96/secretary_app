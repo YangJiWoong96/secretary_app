{
 "cells": [
  {
   "cell_type": "code",
   "execution_count": null,
   "id": "6611530f",
   "metadata": {},
   "outputs": [],
   "source": [
    "from dotenv import load_dotenv\n",
    "import os, firebase_admin\n",
    "from firebase_admin import credentials, firestore\n",
    "\n",
    "# .env 로드\n",
    "load_dotenv(dotenv_path=\".env\")\n",
    "\n",
    "# 이제 환경변수로 인증\n",
    "key_path = os.environ[\"GOOGLE_APPLICATION_CREDENTIALS\"]\n",
    "cred = credentials.Certificate(key_path)\n",
    "firebase_admin.initialize_app(cred)\n",
    "db = firestore.client()"
   ]
  },
  {
   "cell_type": "code",
   "execution_count": 4,
   "id": "0cfe5f86",
   "metadata": {},
   "outputs": [
    {
     "name": "stdout",
     "output_type": "stream",
     "text": [
      "🔍 Existing events: [{'contextData': {'location': {'longitude': -122.083922, 'timestamp': DatetimeWithNanoseconds(2025, 6, 23, 13, 15, 54, 369000, tzinfo=datetime.timezone.utc), 'latitude': 37.4220936}, 'upcomingEvents': []}, 'userId': 'test_user_01', 'recordTime': DatetimeWithNanoseconds(2025, 6, 23, 22, 15, 54, 788970, tzinfo=datetime.timezone.utc)}]\n"
     ]
    },
    {
     "name": "stdout",
     "output_type": "stream",
     "text": [
      "📥 New event: {'contextData': {'location': {'longitude': -122.083922, 'timestamp': DatetimeWithNanoseconds(2025, 6, 23, 13, 15, 54, 369000, tzinfo=datetime.timezone.utc), 'latitude': 37.4220936}, 'upcomingEvents': []}, 'userId': 'test_user_01', 'recordTime': DatetimeWithNanoseconds(2025, 6, 23, 22, 15, 54, 788970, tzinfo=datetime.timezone.utc)}\n"
     ]
    }
   ],
   "source": [
    "# 2. 과거 이벤트 한 번에 읽어오는 함수\n",
    "def fetch_events(user_id: str):\n",
    "    col = db.collection(\"users\").document(user_id).collection(\"context_events\")\n",
    "    docs = col.order_by(\"recordTime\").stream()\n",
    "    return [d.to_dict() for d in docs]\n",
    "\n",
    "\n",
    "# 3. 실시간 추가 감지 콜백\n",
    "def on_snapshot(col_snapshot, changes, read_time):\n",
    "    for change in changes:\n",
    "        if change.type.name == \"ADDED\":\n",
    "            new_event = change.document.to_dict()\n",
    "            print(\"📥 New event:\", new_event)\n",
    "            # TODO: 여기에서 LLM/Agent 파이프라인 호출\n",
    "\n",
    "\n",
    "# 4. 리스너 등록 및 초기 데이터 로드\n",
    "user_id = \"test_user_01\"\n",
    "query = db.collection(\"users\").document(user_id).collection(\"context_events\")\n",
    "\n",
    "# 실시간 리스너\n",
    "query.on_snapshot(on_snapshot)\n",
    "\n",
    "# 초기 한 번 로드\n",
    "events = fetch_events(user_id)\n",
    "print(\"🔍 Existing events:\", events)"
   ]
  }
 ],
 "metadata": {
  "kernelspec": {
   "display_name": "venv",
   "language": "python",
   "name": "python3"
  },
  "language_info": {
   "codemirror_mode": {
    "name": "ipython",
    "version": 3
   },
   "file_extension": ".py",
   "mimetype": "text/x-python",
   "name": "python",
   "nbconvert_exporter": "python",
   "pygments_lexer": "ipython3",
   "version": "3.12.3"
  }
 },
 "nbformat": 4,
 "nbformat_minor": 5
}
