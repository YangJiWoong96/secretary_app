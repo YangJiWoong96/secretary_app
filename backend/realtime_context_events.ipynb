{
 "cells": [
  {
   "cell_type": "code",
   "execution_count": 1,
   "id": "6611530f",
   "metadata": {},
   "outputs": [],
   "source": [
    "from dotenv import load_dotenv\n",
    "import os, firebase_admin\n",
    "from firebase_admin import credentials, firestore\n",
    "\n",
    "# .env 로드\n",
    "load_dotenv(dotenv_path=\".env\")\n",
    "\n",
    "# 이제 환경변수로 인증\n",
    "key_path = os.environ[\"GOOGLE_APPLICATION_CREDENTIALS\"]\n",
    "cred = credentials.Certificate(key_path)\n",
    "firebase_admin.initialize_app(cred)\n",
    "db = firestore.client()"
   ]
  },
  {
   "cell_type": "code",
   "execution_count": 2,
   "id": "0cfe5f86",
   "metadata": {},
   "outputs": [
    {
     "name": "stdout",
     "output_type": "stream",
     "text": [
      "🔍 Existing events: [{'contextData': {'location': {'longitude': -122.083922, 'timestamp': DatetimeWithNanoseconds(2025, 6, 23, 13, 15, 54, 369000, tzinfo=datetime.timezone.utc), 'latitude': 37.4220936}, 'upcomingEvents': []}, 'userId': 'test_user_01', 'recordTime': DatetimeWithNanoseconds(2025, 6, 23, 22, 15, 54, 788970, tzinfo=datetime.timezone.utc)}, {'contextData': {'location': {'longitude': 126.9922937, 'timestamp': DatetimeWithNanoseconds(2025, 6, 25, 11, 43, 36, 53000, tzinfo=datetime.timezone.utc), 'latitude': 37.4924093}, 'upcomingEvents': []}, 'userId': 'test_user_01', 'recordTime': DatetimeWithNanoseconds(2025, 6, 25, 20, 43, 36, 142347, tzinfo=datetime.timezone.utc)}, {'contextData': {'location': {'longitude': 126.9922814, 'timestamp': DatetimeWithNanoseconds(2025, 6, 25, 11, 44, 24, 17000, tzinfo=datetime.timezone.utc), 'latitude': 37.4928651}, 'upcomingEvents': []}, 'userId': 'test_user_01', 'recordTime': DatetimeWithNanoseconds(2025, 6, 25, 20, 44, 24, 73500, tzinfo=datetime.timezone.utc)}, {'contextData': {'location': {'longitude': 126.9928106, 'timestamp': DatetimeWithNanoseconds(2025, 6, 25, 11, 44, 56, 20000, tzinfo=datetime.timezone.utc), 'latitude': 37.4930504}, 'upcomingEvents': []}, 'userId': 'test_user_01', 'recordTime': DatetimeWithNanoseconds(2025, 6, 25, 20, 44, 56, 69586, tzinfo=datetime.timezone.utc)}, {'contextData': {'location': {'longitude': 126.9933469, 'timestamp': DatetimeWithNanoseconds(2025, 6, 25, 11, 45, 29, 626000, tzinfo=datetime.timezone.utc), 'latitude': 37.4932061}, 'upcomingEvents': []}, 'userId': 'test_user_01', 'recordTime': DatetimeWithNanoseconds(2025, 6, 25, 20, 45, 29, 677076, tzinfo=datetime.timezone.utc)}, {'contextData': {'location': {'longitude': 126.9939112, 'timestamp': DatetimeWithNanoseconds(2025, 6, 25, 11, 46, 5, 102000, tzinfo=datetime.timezone.utc), 'latitude': 37.4932473}, 'upcomingEvents': []}, 'userId': 'test_user_01', 'recordTime': DatetimeWithNanoseconds(2025, 6, 25, 20, 46, 5, 167417, tzinfo=datetime.timezone.utc)}, {'contextData': {'location': {'longitude': 126.9944875, 'timestamp': DatetimeWithNanoseconds(2025, 6, 25, 11, 46, 38, 756000, tzinfo=datetime.timezone.utc), 'latitude': 37.4932781}, 'upcomingEvents': []}, 'userId': 'test_user_01', 'recordTime': DatetimeWithNanoseconds(2025, 6, 25, 20, 46, 38, 787355, tzinfo=datetime.timezone.utc)}, {'contextData': {'location': {'longitude': 126.9950596, 'timestamp': DatetimeWithNanoseconds(2025, 6, 25, 11, 47, 13, 976000, tzinfo=datetime.timezone.utc), 'latitude': 37.493295}, 'upcomingEvents': []}, 'userId': 'test_user_01', 'recordTime': DatetimeWithNanoseconds(2025, 6, 25, 20, 47, 14, 5010, tzinfo=datetime.timezone.utc)}, {'contextData': {'location': {'longitude': 126.9955675, 'timestamp': DatetimeWithNanoseconds(2025, 6, 25, 11, 47, 44, 93000, tzinfo=datetime.timezone.utc), 'latitude': 37.4935101}, 'upcomingEvents': []}, 'userId': 'test_user_01', 'recordTime': DatetimeWithNanoseconds(2025, 6, 25, 20, 47, 44, 145127, tzinfo=datetime.timezone.utc)}, {'contextData': {'location': {'longitude': 126.9961336, 'timestamp': DatetimeWithNanoseconds(2025, 6, 25, 11, 48, 16, 941000, tzinfo=datetime.timezone.utc), 'latitude': 37.4935317}, 'upcomingEvents': []}, 'userId': 'test_user_01', 'recordTime': DatetimeWithNanoseconds(2025, 6, 25, 20, 48, 16, 984340, tzinfo=datetime.timezone.utc)}, {'contextData': {'location': {'longitude': 126.9966846, 'timestamp': DatetimeWithNanoseconds(2025, 6, 25, 11, 48, 52, 683000, tzinfo=datetime.timezone.utc), 'latitude': 37.4936438}, 'upcomingEvents': []}, 'userId': 'test_user_01', 'recordTime': DatetimeWithNanoseconds(2025, 6, 25, 20, 48, 52, 749192, tzinfo=datetime.timezone.utc)}, {'contextData': {'location': {'longitude': 126.9972528, 'timestamp': DatetimeWithNanoseconds(2025, 6, 25, 11, 49, 26, 781000, tzinfo=datetime.timezone.utc), 'latitude': 37.4936465}, 'upcomingEvents': []}, 'userId': 'test_user_01', 'recordTime': DatetimeWithNanoseconds(2025, 6, 25, 20, 49, 26, 825133, tzinfo=datetime.timezone.utc)}, {'contextData': {'location': {'longitude': 126.9976395, 'timestamp': DatetimeWithNanoseconds(2025, 6, 25, 11, 50, 0, 262000, tzinfo=datetime.timezone.utc), 'latitude': 37.4933091}, 'upcomingEvents': []}, 'userId': 'test_user_01', 'recordTime': DatetimeWithNanoseconds(2025, 6, 25, 20, 50, 0, 332727, tzinfo=datetime.timezone.utc)}, {'contextData': {'location': {'longitude': 126.9979211, 'timestamp': DatetimeWithNanoseconds(2025, 6, 25, 11, 50, 34, 301000, tzinfo=datetime.timezone.utc), 'latitude': 37.4929052}, 'upcomingEvents': []}, 'userId': 'test_user_01', 'recordTime': DatetimeWithNanoseconds(2025, 6, 25, 20, 50, 34, 370426, tzinfo=datetime.timezone.utc)}, {'contextData': {'location': {'longitude': 126.9973728, 'timestamp': DatetimeWithNanoseconds(2025, 6, 25, 11, 51, 7, 497000, tzinfo=datetime.timezone.utc), 'latitude': 37.4927811}, 'upcomingEvents': []}, 'userId': 'test_user_01', 'recordTime': DatetimeWithNanoseconds(2025, 6, 25, 20, 51, 7, 551209, tzinfo=datetime.timezone.utc)}, {'contextData': {'location': {'longitude': 126.9968165, 'timestamp': DatetimeWithNanoseconds(2025, 6, 25, 11, 51, 44, 861000, tzinfo=datetime.timezone.utc), 'latitude': 37.4926883}, 'upcomingEvents': []}, 'userId': 'test_user_01', 'recordTime': DatetimeWithNanoseconds(2025, 6, 25, 20, 51, 44, 930148, tzinfo=datetime.timezone.utc)}, {'contextData': {'location': {'longitude': 126.9962617, 'timestamp': DatetimeWithNanoseconds(2025, 6, 25, 11, 52, 20, 585000, tzinfo=datetime.timezone.utc), 'latitude': 37.4925977}, 'upcomingEvents': []}, 'userId': 'test_user_01', 'recordTime': DatetimeWithNanoseconds(2025, 6, 25, 20, 52, 20, 656959, tzinfo=datetime.timezone.utc)}, {'contextData': {'location': {'longitude': 126.9956861, 'timestamp': DatetimeWithNanoseconds(2025, 6, 25, 11, 52, 54, 922000, tzinfo=datetime.timezone.utc), 'latitude': 37.4925667}, 'upcomingEvents': []}, 'userId': 'test_user_01', 'recordTime': DatetimeWithNanoseconds(2025, 6, 25, 20, 52, 54, 998975, tzinfo=datetime.timezone.utc)}, {'contextData': {'location': {'longitude': 126.9951157, 'timestamp': DatetimeWithNanoseconds(2025, 6, 25, 11, 53, 28, 728000, tzinfo=datetime.timezone.utc), 'latitude': 37.4924927}, 'upcomingEvents': []}, 'userId': 'test_user_01', 'recordTime': DatetimeWithNanoseconds(2025, 6, 25, 20, 53, 28, 784330, tzinfo=datetime.timezone.utc)}, {'contextData': {'location': {'longitude': 126.9944867, 'timestamp': DatetimeWithNanoseconds(2025, 6, 25, 11, 54, 14, 37000, tzinfo=datetime.timezone.utc), 'latitude': 37.4923108}, 'upcomingEvents': []}, 'userId': 'test_user_01', 'recordTime': DatetimeWithNanoseconds(2025, 6, 25, 20, 54, 14, 530458, tzinfo=datetime.timezone.utc)}, {'contextData': {'location': {'longitude': 126.9939564, 'timestamp': DatetimeWithNanoseconds(2025, 6, 25, 11, 54, 54, 166000, tzinfo=datetime.timezone.utc), 'latitude': 37.4920709}, 'upcomingEvents': []}, 'userId': 'test_user_01', 'recordTime': DatetimeWithNanoseconds(2025, 6, 25, 20, 54, 54, 322975, tzinfo=datetime.timezone.utc)}, {'contextData': {'location': {'longitude': 126.9934499, 'timestamp': DatetimeWithNanoseconds(2025, 6, 25, 11, 55, 29, 266000, tzinfo=datetime.timezone.utc), 'latitude': 37.4918418}, 'upcomingEvents': []}, 'userId': 'test_user_01', 'recordTime': DatetimeWithNanoseconds(2025, 6, 25, 20, 55, 29, 466271, tzinfo=datetime.timezone.utc)}, {'contextData': {'location': {'longitude': 126.9928814, 'timestamp': DatetimeWithNanoseconds(2025, 6, 25, 11, 56, 4, 337000, tzinfo=datetime.timezone.utc), 'latitude': 37.4916686}, 'upcomingEvents': []}, 'userId': 'test_user_01', 'recordTime': DatetimeWithNanoseconds(2025, 6, 25, 20, 56, 4, 470793, tzinfo=datetime.timezone.utc)}, {'contextData': {'location': {'longitude': 126.9925536, 'timestamp': DatetimeWithNanoseconds(2025, 6, 25, 11, 56, 34, 449000, tzinfo=datetime.timezone.utc), 'latitude': 37.4920443}, 'upcomingEvents': []}, 'userId': 'test_user_01', 'recordTime': DatetimeWithNanoseconds(2025, 6, 25, 20, 56, 34, 597570, tzinfo=datetime.timezone.utc)}]\n"
     ]
    },
    {
     "name": "stdout",
     "output_type": "stream",
     "text": [
      "📥 New event: {'contextData': {'location': {'longitude': 126.9976395, 'timestamp': DatetimeWithNanoseconds(2025, 6, 25, 11, 50, 0, 262000, tzinfo=datetime.timezone.utc), 'latitude': 37.4933091}, 'upcomingEvents': []}, 'userId': 'test_user_01', 'recordTime': DatetimeWithNanoseconds(2025, 6, 25, 20, 50, 0, 332727, tzinfo=datetime.timezone.utc)}\n",
      "📥 New event: {'contextData': {'location': {'longitude': 126.9973728, 'timestamp': DatetimeWithNanoseconds(2025, 6, 25, 11, 51, 7, 497000, tzinfo=datetime.timezone.utc), 'latitude': 37.4927811}, 'upcomingEvents': []}, 'userId': 'test_user_01', 'recordTime': DatetimeWithNanoseconds(2025, 6, 25, 20, 51, 7, 551209, tzinfo=datetime.timezone.utc)}\n",
      "📥 New event: {'contextData': {'location': {'longitude': 126.9939564, 'timestamp': DatetimeWithNanoseconds(2025, 6, 25, 11, 54, 54, 166000, tzinfo=datetime.timezone.utc), 'latitude': 37.4920709}, 'upcomingEvents': []}, 'userId': 'test_user_01', 'recordTime': DatetimeWithNanoseconds(2025, 6, 25, 20, 54, 54, 322975, tzinfo=datetime.timezone.utc)}\n",
      "📥 New event: {'contextData': {'location': {'longitude': 126.9944867, 'timestamp': DatetimeWithNanoseconds(2025, 6, 25, 11, 54, 14, 37000, tzinfo=datetime.timezone.utc), 'latitude': 37.4923108}, 'upcomingEvents': []}, 'userId': 'test_user_01', 'recordTime': DatetimeWithNanoseconds(2025, 6, 25, 20, 54, 14, 530458, tzinfo=datetime.timezone.utc)}\n",
      "📥 New event: {'contextData': {'location': {'longitude': 126.9928106, 'timestamp': DatetimeWithNanoseconds(2025, 6, 25, 11, 44, 56, 20000, tzinfo=datetime.timezone.utc), 'latitude': 37.4930504}, 'upcomingEvents': []}, 'userId': 'test_user_01', 'recordTime': DatetimeWithNanoseconds(2025, 6, 25, 20, 44, 56, 69586, tzinfo=datetime.timezone.utc)}\n",
      "📥 New event: {'contextData': {'location': {'longitude': 126.9944875, 'timestamp': DatetimeWithNanoseconds(2025, 6, 25, 11, 46, 38, 756000, tzinfo=datetime.timezone.utc), 'latitude': 37.4932781}, 'upcomingEvents': []}, 'userId': 'test_user_01', 'recordTime': DatetimeWithNanoseconds(2025, 6, 25, 20, 46, 38, 787355, tzinfo=datetime.timezone.utc)}\n",
      "📥 New event: {'contextData': {'location': {'longitude': 126.9972528, 'timestamp': DatetimeWithNanoseconds(2025, 6, 25, 11, 49, 26, 781000, tzinfo=datetime.timezone.utc), 'latitude': 37.4936465}, 'upcomingEvents': []}, 'userId': 'test_user_01', 'recordTime': DatetimeWithNanoseconds(2025, 6, 25, 20, 49, 26, 825133, tzinfo=datetime.timezone.utc)}\n",
      "📥 New event: {'contextData': {'location': {'longitude': 126.9968165, 'timestamp': DatetimeWithNanoseconds(2025, 6, 25, 11, 51, 44, 861000, tzinfo=datetime.timezone.utc), 'latitude': 37.4926883}, 'upcomingEvents': []}, 'userId': 'test_user_01', 'recordTime': DatetimeWithNanoseconds(2025, 6, 25, 20, 51, 44, 930148, tzinfo=datetime.timezone.utc)}\n",
      "📥 New event: {'contextData': {'location': {'longitude': 126.9922937, 'timestamp': DatetimeWithNanoseconds(2025, 6, 25, 11, 43, 36, 53000, tzinfo=datetime.timezone.utc), 'latitude': 37.4924093}, 'upcomingEvents': []}, 'userId': 'test_user_01', 'recordTime': DatetimeWithNanoseconds(2025, 6, 25, 20, 43, 36, 142347, tzinfo=datetime.timezone.utc)}\n",
      "📥 New event: {'contextData': {'location': {'longitude': 126.9962617, 'timestamp': DatetimeWithNanoseconds(2025, 6, 25, 11, 52, 20, 585000, tzinfo=datetime.timezone.utc), 'latitude': 37.4925977}, 'upcomingEvents': []}, 'userId': 'test_user_01', 'recordTime': DatetimeWithNanoseconds(2025, 6, 25, 20, 52, 20, 656959, tzinfo=datetime.timezone.utc)}\n",
      "📥 New event: {'contextData': {'location': {'longitude': 126.9956861, 'timestamp': DatetimeWithNanoseconds(2025, 6, 25, 11, 52, 54, 922000, tzinfo=datetime.timezone.utc), 'latitude': 37.4925667}, 'upcomingEvents': []}, 'userId': 'test_user_01', 'recordTime': DatetimeWithNanoseconds(2025, 6, 25, 20, 52, 54, 998975, tzinfo=datetime.timezone.utc)}\n",
      "📥 New event: {'contextData': {'location': {'longitude': 126.9955675, 'timestamp': DatetimeWithNanoseconds(2025, 6, 25, 11, 47, 44, 93000, tzinfo=datetime.timezone.utc), 'latitude': 37.4935101}, 'upcomingEvents': []}, 'userId': 'test_user_01', 'recordTime': DatetimeWithNanoseconds(2025, 6, 25, 20, 47, 44, 145127, tzinfo=datetime.timezone.utc)}\n",
      "📥 New event: {'contextData': {'location': {'longitude': 126.9922814, 'timestamp': DatetimeWithNanoseconds(2025, 6, 25, 11, 44, 24, 17000, tzinfo=datetime.timezone.utc), 'latitude': 37.4928651}, 'upcomingEvents': []}, 'userId': 'test_user_01', 'recordTime': DatetimeWithNanoseconds(2025, 6, 25, 20, 44, 24, 73500, tzinfo=datetime.timezone.utc)}\n",
      "📥 New event: {'contextData': {'location': {'longitude': 126.9939112, 'timestamp': DatetimeWithNanoseconds(2025, 6, 25, 11, 46, 5, 102000, tzinfo=datetime.timezone.utc), 'latitude': 37.4932473}, 'upcomingEvents': []}, 'userId': 'test_user_01', 'recordTime': DatetimeWithNanoseconds(2025, 6, 25, 20, 46, 5, 167417, tzinfo=datetime.timezone.utc)}\n",
      "📥 New event: {'contextData': {'location': {'longitude': 126.9928814, 'timestamp': DatetimeWithNanoseconds(2025, 6, 25, 11, 56, 4, 337000, tzinfo=datetime.timezone.utc), 'latitude': 37.4916686}, 'upcomingEvents': []}, 'userId': 'test_user_01', 'recordTime': DatetimeWithNanoseconds(2025, 6, 25, 20, 56, 4, 470793, tzinfo=datetime.timezone.utc)}\n",
      "📥 New event: {'contextData': {'location': {'longitude': 126.9934499, 'timestamp': DatetimeWithNanoseconds(2025, 6, 25, 11, 55, 29, 266000, tzinfo=datetime.timezone.utc), 'latitude': 37.4918418}, 'upcomingEvents': []}, 'userId': 'test_user_01', 'recordTime': DatetimeWithNanoseconds(2025, 6, 25, 20, 55, 29, 466271, tzinfo=datetime.timezone.utc)}\n",
      "📥 New event: {'contextData': {'location': {'longitude': 126.9950596, 'timestamp': DatetimeWithNanoseconds(2025, 6, 25, 11, 47, 13, 976000, tzinfo=datetime.timezone.utc), 'latitude': 37.493295}, 'upcomingEvents': []}, 'userId': 'test_user_01', 'recordTime': DatetimeWithNanoseconds(2025, 6, 25, 20, 47, 14, 5010, tzinfo=datetime.timezone.utc)}\n",
      "📥 New event: {'contextData': {'location': {'longitude': 126.9933469, 'timestamp': DatetimeWithNanoseconds(2025, 6, 25, 11, 45, 29, 626000, tzinfo=datetime.timezone.utc), 'latitude': 37.4932061}, 'upcomingEvents': []}, 'userId': 'test_user_01', 'recordTime': DatetimeWithNanoseconds(2025, 6, 25, 20, 45, 29, 677076, tzinfo=datetime.timezone.utc)}\n",
      "📥 New event: {'contextData': {'location': {'longitude': 126.9961336, 'timestamp': DatetimeWithNanoseconds(2025, 6, 25, 11, 48, 16, 941000, tzinfo=datetime.timezone.utc), 'latitude': 37.4935317}, 'upcomingEvents': []}, 'userId': 'test_user_01', 'recordTime': DatetimeWithNanoseconds(2025, 6, 25, 20, 48, 16, 984340, tzinfo=datetime.timezone.utc)}\n",
      "📥 New event: {'contextData': {'location': {'longitude': 126.9951157, 'timestamp': DatetimeWithNanoseconds(2025, 6, 25, 11, 53, 28, 728000, tzinfo=datetime.timezone.utc), 'latitude': 37.4924927}, 'upcomingEvents': []}, 'userId': 'test_user_01', 'recordTime': DatetimeWithNanoseconds(2025, 6, 25, 20, 53, 28, 784330, tzinfo=datetime.timezone.utc)}\n",
      "📥 New event: {'contextData': {'location': {'longitude': -122.083922, 'timestamp': DatetimeWithNanoseconds(2025, 6, 23, 13, 15, 54, 369000, tzinfo=datetime.timezone.utc), 'latitude': 37.4220936}, 'upcomingEvents': []}, 'userId': 'test_user_01', 'recordTime': DatetimeWithNanoseconds(2025, 6, 23, 22, 15, 54, 788970, tzinfo=datetime.timezone.utc)}\n",
      "📥 New event: {'contextData': {'location': {'longitude': 126.9979211, 'timestamp': DatetimeWithNanoseconds(2025, 6, 25, 11, 50, 34, 301000, tzinfo=datetime.timezone.utc), 'latitude': 37.4929052}, 'upcomingEvents': []}, 'userId': 'test_user_01', 'recordTime': DatetimeWithNanoseconds(2025, 6, 25, 20, 50, 34, 370426, tzinfo=datetime.timezone.utc)}\n",
      "📥 New event: {'contextData': {'location': {'longitude': 126.9925536, 'timestamp': DatetimeWithNanoseconds(2025, 6, 25, 11, 56, 34, 449000, tzinfo=datetime.timezone.utc), 'latitude': 37.4920443}, 'upcomingEvents': []}, 'userId': 'test_user_01', 'recordTime': DatetimeWithNanoseconds(2025, 6, 25, 20, 56, 34, 597570, tzinfo=datetime.timezone.utc)}\n",
      "📥 New event: {'contextData': {'location': {'longitude': 126.9966846, 'timestamp': DatetimeWithNanoseconds(2025, 6, 25, 11, 48, 52, 683000, tzinfo=datetime.timezone.utc), 'latitude': 37.4936438}, 'upcomingEvents': []}, 'userId': 'test_user_01', 'recordTime': DatetimeWithNanoseconds(2025, 6, 25, 20, 48, 52, 749192, tzinfo=datetime.timezone.utc)}\n"
     ]
    }
   ],
   "source": [
    "# 2. 과거 이벤트 한 번에 읽어오는 함수\n",
    "def fetch_events(user_id: str):\n",
    "    col = db.collection(\"users\").document(user_id).collection(\"context_events\")\n",
    "    docs = col.order_by(\"recordTime\").stream()\n",
    "    return [d.to_dict() for d in docs]\n",
    "\n",
    "\n",
    "# 3. 실시간 추가 감지 콜백\n",
    "def on_snapshot(col_snapshot, changes, read_time):\n",
    "    for change in changes:\n",
    "        if change.type.name == \"ADDED\":\n",
    "            new_event = change.document.to_dict()\n",
    "            print(\"📥 New event:\", new_event)\n",
    "            # TODO: 여기에서 LLM/Agent 파이프라인 호출\n",
    "\n",
    "\n",
    "# 4. 리스너 등록 및 초기 데이터 로드\n",
    "user_id = \"test_user_01\"\n",
    "query = db.collection(\"users\").document(user_id).collection(\"context_events\")\n",
    "\n",
    "# 실시간 리스너\n",
    "query.on_snapshot(on_snapshot)\n",
    "\n",
    "# 초기 한 번 로드\n",
    "events = fetch_events(user_id)\n",
    "print(\"🔍 Existing events:\", events)"
   ]
  }
 ],
 "metadata": {
  "kernelspec": {
   "display_name": "secretary_app",
   "language": "python",
   "name": "python3"
  },
  "language_info": {
   "codemirror_mode": {
    "name": "ipython",
    "version": 3
   },
   "file_extension": ".py",
   "mimetype": "text/x-python",
   "name": "python",
   "nbconvert_exporter": "python",
   "pygments_lexer": "ipython3",
   "version": "3.11.11"
  }
 },
 "nbformat": 4,
 "nbformat_minor": 5
}
