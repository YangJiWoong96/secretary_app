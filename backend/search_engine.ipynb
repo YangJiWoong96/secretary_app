{
 "cells": [
  {
   "cell_type": "code",
   "execution_count": 3,
   "id": "42677a2a",
   "metadata": {},
   "outputs": [],
   "source": [
    "import os\n",
    "import requests\n",
    "from dotenv import load_dotenv\n",
    "\n",
    "# .env 로드\n",
    "load_dotenv()\n",
    "\n",
    "# 네이버 API 키 불러오기\n",
    "CLIENT_ID = os.getenv('CLIENT_ID')\n",
    "CLIENT_SECRET = os.getenv('CLIENT_SECRET')\n",
    "\n",
    "# 검색 함수\n",
    "def naver_search(query, display=15):\n",
    "    url = \"https://openapi.naver.com/v1/search/local.json\"  # 블로그 검색, 필요시 news/shop 등 변경\n",
    "    headers = {\n",
    "        \"X-Naver-Client-Id\": CLIENT_ID,\n",
    "        \"X-Naver-Client-Secret\": CLIENT_SECRET\n",
    "    }\n",
    "    params = {\"query\": query, \"display\": display}\n",
    "\n",
    "    res = requests.get(url, headers=headers, params=params)\n",
    "    if res.status_code == 200:\n",
    "        return res.json()\n",
    "    else:\n",
    "        print(f\"Error {res.status_code}: {res.text}\")\n",
    "        return None"
   ]
  },
  {
   "cell_type": "code",
   "execution_count": 4,
   "id": "b21e8119",
   "metadata": {},
   "outputs": [
    {
     "name": "stdout",
     "output_type": "stream",
     "text": [
      "{'lastBuildDate': 'Sun, 29 Jun 2025 12:10:27 +0900', 'total': 5, 'start': 1, 'display': 5, 'items': []}\n"
     ]
    }
   ],
   "source": [
    "# 테스트 호출\n",
    "result = naver_search(\"홍대 조던 신발\")\n",
    "print(result)"
   ]
  },
  {
   "cell_type": "code",
   "execution_count": null,
   "id": "9a8c8201",
   "metadata": {},
   "outputs": [],
   "source": []
  }
 ],
 "metadata": {
  "kernelspec": {
   "display_name": "secretary_app",
   "language": "python",
   "name": "python3"
  },
  "language_info": {
   "codemirror_mode": {
    "name": "ipython",
    "version": 3
   },
   "file_extension": ".py",
   "mimetype": "text/x-python",
   "name": "python",
   "nbconvert_exporter": "python",
   "pygments_lexer": "ipython3",
   "version": "3.11.11"
  }
 },
 "nbformat": 4,
 "nbformat_minor": 5
}
